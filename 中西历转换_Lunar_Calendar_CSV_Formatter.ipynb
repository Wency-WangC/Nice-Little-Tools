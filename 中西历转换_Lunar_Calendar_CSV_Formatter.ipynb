{
  "nbformat": 4,
  "nbformat_minor": 0,
  "metadata": {
    "colab": {
      "provenance": []
    },
    "kernelspec": {
      "name": "python3",
      "display_name": "Python 3"
    },
    "language_info": {
      "name": "python"
    }
  },
  "cells": [
    {
      "cell_type": "markdown",
      "source": [
        "# 📅 曆法轉換助手 | Lunar Calendar CSV Formatter\n",
        "### 🧭 使用步驟 Steps\n",
        "\n",
        "1. 按下 Ctrl+F9 依序執行下方兩個程式碼區塊  \n",
        "   Press Ctrl+F9 to run the two code cells below\n",
        "2. 稍等約30秒后，根據指引，上傳研究指南第一步完成的 Excel（.xlsx）  \n",
        "   Wait for 30 seconds, then upload an Excel file formatted according to the LibGuide step 1\n",
        "3. 系統將自動補欄、簡轉繁，並下載可上傳至 Sinocal 的 UTF-8 CSV 檔  \n",
        "   The tool will auto-complete missing fields, convert Simplified to Traditional Chinese, and download a UTF-8 CSV file for upload to Sinocal"
      ],
      "metadata": {
        "id": "qDjlGWDi5779"
      }
    },
    {
      "cell_type": "code",
      "source": [
        "# @title\n",
        "# 安装 opencc-python（简体转繁体）\n",
        "!pip install -q opencc-python-reimplemented\n",
        "\n",
        "!pip install -q pandas openpyxl\n",
        "#下載必需庫 用於excel處理\n",
        "\n",
        "from google.colab import files\n",
        "import pandas as pd\n",
        "import io\n",
        "import os\n",
        "from opencc import OpenCC\n",
        "#加載庫\n",
        "\n",
        "#封裝\n",
        "def convert_lunar_dates(fname):\n",
        "# 读取 Excel（自动识别表头）\n",
        "  df = pd.read_excel(io.BytesIO(uploaded[fname]), dtype=str)\n",
        "  print(\"✅ 上传并读取完成，前几行：\")\n",
        "  print(df.head())\n",
        "\n",
        "  # 必要字段检查\n",
        "  required = [\"年号\", \"年\", \"月\", \"日\"]\n",
        "  missing = [col for col in required if col not in df.columns]\n",
        "  if missing:\n",
        "      raise ValueError(f\"缺少字段：{missing}\")\n",
        "\n",
        "  # 如无“国号”“帝号”则补空白列\n",
        "  if \"国号\" not in df.columns:\n",
        "      df.insert(0, \"国号\", \"\")\n",
        "  if \"帝号\" not in df.columns:\n",
        "      df.insert(1, \"帝号\", \"\")\n",
        "\n",
        "  # 保证列顺序，填空值\n",
        "  df = df[[\"国号\", \"帝号\", \"年号\", \"年\", \"月\", \"日\"]]\n",
        "  df = df.fillna(\"\")\n",
        "\n",
        "  # ✅ 简体转繁体（逐格）\n",
        "  cc = OpenCC('s2t')  # 简体转繁体\n",
        "  df = df.applymap(lambda x: cc.convert(x) if isinstance(x, str) else x)\n",
        "\n",
        "  # 去掉原文件的扩展名，加上 \"_input.csv\"\n",
        "  base = os.path.splitext(fname)[0]\n",
        "  out_csv = f\"{base}_input.csv\"\n",
        "\n",
        "  # 保存为 UTF-8 编码 CSV，无 BOM\n",
        "  df.to_csv(out_csv, index=False, header=False, encoding=\"utf-8\")\n",
        "\n",
        "  # 下载\n",
        "  files.download(out_csv)\n",
        "  print(\"✅ 已生成并准备下载：\", out_csv)\n"
      ],
      "metadata": {
        "id": "4yhyBiFRAfKi",
        "collapsed": true,
        "cellView": "form"
      },
      "execution_count": null,
      "outputs": []
    },
    {
      "cell_type": "code",
      "source": [
        "# @title\n",
        "# 請點擊左側按鈕上傳您的 Excel 檔案\n",
        "uploaded = files.upload()\n",
        "fname = list(uploaded.keys())[0]\n",
        "\n",
        "# 開始轉換並下載結果 CSV\n",
        "convert_lunar_dates(fname)"
      ],
      "metadata": {
        "id": "XOmuOZquBQaL",
        "cellView": "form"
      },
      "execution_count": null,
      "outputs": []
    },
    {
      "cell_type": "markdown",
      "source": [
        "---\n",
        "\n",
        "### 📄 聲明與開發資訊 | Copyright & Credits\n",
        "\n",
        "本工具由多倫多大學鄭裕彤東亞圖書館設計，程式碼版權歸本館所有。  \n",
        "Developed by the Cheng Yu Tung East Asian Library, University of Toronto. Code copyright belongs to the Library.\n",
        "\n",
        "西曆轉換結果依賴中央研究院數位文化中心所提供的中曆轉換系統。  \n",
        "Gregorian date conversion results rely on the Sinocal system by Academia Sinica Center for Digital Cultures (ASCDC).  \n",
        "  \n",
        "    \n",
        "🔗 東亞圖書館研究指南頁面 | EAL Research Guide: *[Add URL]*  \n",
        "🔗 中央研究院中曆轉換系統 | Academia Sinica Sinocal Website:\n",
        "<https://sinocal.sinica.edu.tw/>\n"
      ],
      "metadata": {
        "id": "zGDR7PcoD436"
      }
    }
  ]
}